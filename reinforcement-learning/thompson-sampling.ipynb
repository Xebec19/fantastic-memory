{
 "cells": [
  {
   "cell_type": "code",
   "execution_count": null,
   "metadata": {},
   "outputs": [],
   "source": [
    "import numpy as np\n",
    "import pandas as pd \n",
    "import matplotlib.pyplot as pi "
   ]
  },
  {
   "cell_type": "code",
   "execution_count": null,
   "metadata": {},
   "outputs": [],
   "source": [
    "dataset = pd.read_csv(\"Ads_CTR_Optimisation.csv\")"
   ]
  },
  {
   "cell_type": "code",
   "execution_count": null,
   "metadata": {},
   "outputs": [],
   "source": [
    "import random\n",
    "N = 1000\n",
    "n = 10\n",
    "ads_selected = []\n",
    "\n",
    "dataset_1 = [0] * n \n",
    "dataset_0 = [0] * n \n",
    "total_reward = 0\n",
    "\n",
    "for n in range(0,N):\n",
    "    ad = 0\n",
    "    max_random = 0\n",
    "\n",
    "    for i in range(0, n):\n",
    "        random_beta = random.betavariate(dataset_1[i] + 1, dataset_0[i] + 1)\n",
    "        if(max_random < random_beta):\n",
    "            max_random = random_beta\n",
    "    ads_selected.append(ad)\n",
    "    # reward = \n",
    "    # if reward == 1:"
   ]
  }
 ],
 "metadata": {
  "kernelspec": {
   "display_name": "dev",
   "language": "python",
   "name": "python3"
  },
  "language_info": {
   "name": "python",
   "version": "3.12.1"
  }
 },
 "nbformat": 4,
 "nbformat_minor": 2
}

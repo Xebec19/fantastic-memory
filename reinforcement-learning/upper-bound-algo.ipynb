{
 "cells": [
  {
   "cell_type": "code",
   "execution_count": null,
   "metadata": {},
   "outputs": [],
   "source": [
    "import numpy as np\n",
    "import matplotlib.pyplot as plt\n",
    "import pandas as pd"
   ]
  },
  {
   "cell_type": "code",
   "execution_count": null,
   "metadata": {},
   "outputs": [],
   "source": [
    "dataset = pd.read_csv('Ads_CTR_Optimisation.csv')"
   ]
  },
  {
   "cell_type": "code",
   "execution_count": null,
   "metadata": {},
   "outputs": [],
   "source": [
    "import math\n",
    "\n",
    "N = 10000\n",
    "d = 10\n",
    "ads_selected=[]\n",
    "number_of_selections=[0]*d\n",
    "sums_of_rewards=[0]*d \n",
    "total_reward=0\n",
    "\n",
    "for n in range(0,N):\n",
    "    ad = 0\n",
    "    max_upper_bound=0\n",
    "    for i in range(0,d):\n",
    "        if(number_of_selections[i] > 0):\n",
    "            average_reward = sums_of_rewards[i]/number_of_selections[i]\n",
    "            delta_i = math.sqrt(3/2*math.log(n+1)/number_of_selections[i])\n",
    "            upper_bound=average_reward + delta_i"
   ]
  }
 ],
 "metadata": {
  "language_info": {
   "name": "python"
  }
 },
 "nbformat": 4,
 "nbformat_minor": 2
}

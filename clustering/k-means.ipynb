{
 "cells": [
  {
   "cell_type": "code",
   "execution_count": 4,
   "metadata": {},
   "outputs": [],
   "source": [
    "import numpy as np \n",
    "import pandas as pd "
   ]
  },
  {
   "cell_type": "code",
   "execution_count": 5,
   "metadata": {},
   "outputs": [],
   "source": [
    "dt = pd.read_csv(\"Mall_Customers.csv\")\n",
    "X = dt.iloc[:,2:6].values\n",
    "y = dt.iloc[:,-1].values"
   ]
  },
  {
   "cell_type": "code",
   "execution_count": 6,
   "metadata": {},
   "outputs": [
    {
     "name": "stdout",
     "output_type": "stream",
     "text": [
      "[[ 18  65  48]\n",
      " [ 39  78  88]\n",
      " [ 21  30  73]\n",
      " [ 42  86  20]\n",
      " [ 40  71  95]\n",
      " [ 58  88  15]\n",
      " [ 53  33   4]\n",
      " [ 28  76  40]\n",
      " [ 32  87  63]\n",
      " [ 32  77  74]\n",
      " [ 23  29  87]\n",
      " [ 20  61  49]\n",
      " [ 67  54  41]\n",
      " [ 49  54  42]\n",
      " [ 19  65  50]\n",
      " [ 34  78  22]\n",
      " [ 38 113  91]\n",
      " [ 60  50  49]\n",
      " [ 40  54  48]\n",
      " [ 29  28  82]\n",
      " [ 36  85  75]\n",
      " [ 38  54  55]\n",
      " [ 41 103  17]\n",
      " [ 52  88  13]\n",
      " [ 34 103  23]\n",
      " [ 20  37  75]\n",
      " [ 27  46  51]\n",
      " [ 57  75   5]\n",
      " [ 34  58  60]\n",
      " [ 70  49  55]\n",
      " [ 22  57  55]\n",
      " [ 42  34  17]\n",
      " [ 25  24  73]\n",
      " [ 30  19  72]\n",
      " [ 26  62  55]\n",
      " [ 68  48  48]\n",
      " [ 33 113   8]\n",
      " [ 49  65  59]\n",
      " [ 27  40  47]\n",
      " [ 36  87  10]]\n"
     ]
    }
   ],
   "source": [
    "from sklearn.model_selection import train_test_split\n",
    "\n",
    "X_train, X_test, y_train, y_test = train_test_split(X,y,train_size=0.2, random_state=0)\n",
    "print(X_train)"
   ]
  }
 ],
 "metadata": {
  "kernelspec": {
   "display_name": "dev",
   "language": "python",
   "name": "python3"
  },
  "language_info": {
   "codemirror_mode": {
    "name": "ipython",
    "version": 3
   },
   "file_extension": ".py",
   "mimetype": "text/x-python",
   "name": "python",
   "nbconvert_exporter": "python",
   "pygments_lexer": "ipython3",
   "version": "3.12.1"
  }
 },
 "nbformat": 4,
 "nbformat_minor": 2
}
